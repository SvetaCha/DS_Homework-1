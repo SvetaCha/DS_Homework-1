{
 "cells": [
  {
   "cell_type": "markdown",
   "metadata": {},
   "source": [
    "#### \"Митниця\""
   ]
  },
  {
   "cell_type": "code",
   "execution_count": 6,
   "metadata": {},
   "outputs": [
    {
     "name": "stdout",
     "output_type": "stream",
     "text": [
      "Хто перетинає кордон: Ігор\n",
      "Хто перетинає кордон: Оля\n",
      "Хто перетинає кордон: Ігор\n",
      "Хто перетинає кордон: Ігор\n",
      "Хто перетинає кордон: Андрій\n",
      "Хто перетинає кордон: END\n",
      "Ігор - 3\n",
      "Оля - 1\n",
      "Андрій - 1\n"
     ]
    }
   ],
   "source": [
    "def add_traveler(dctnr, name):\n",
    "    if name in dctnr:\n",
    "        dctnr[name] = dctnr[name] + 1\n",
    "    else:\n",
    "        dctnr[name] = 1\n",
    "customs = {}\n",
    "while True:\n",
    "    name = input('Хто перетинає кордон: ')\n",
    "    if name == 'END':\n",
    "        break\n",
    "    add_traveler(customs, name)\n",
    "for key in customs:\n",
    "    print(key, '-', customs[key])"
   ]
  },
  {
   "cell_type": "code",
   "execution_count": null,
   "metadata": {},
   "outputs": [],
   "source": []
  }
 ],
 "metadata": {
  "kernelspec": {
   "display_name": "Python 3",
   "language": "python",
   "name": "python3"
  },
  "language_info": {
   "codemirror_mode": {
    "name": "ipython",
    "version": 3
   },
   "file_extension": ".py",
   "mimetype": "text/x-python",
   "name": "python",
   "nbconvert_exporter": "python",
   "pygments_lexer": "ipython3",
   "version": "3.8.3"
  }
 },
 "nbformat": 4,
 "nbformat_minor": 4
}
