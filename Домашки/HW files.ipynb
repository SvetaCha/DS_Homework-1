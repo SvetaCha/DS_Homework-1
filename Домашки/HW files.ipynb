{
 "cells": [
  {
   "cell_type": "code",
   "execution_count": 17,
   "metadata": {},
   "outputs": [],
   "source": [
    "f = open('Homework-06-base.txt', encoding = 'utf-8')\n",
    "our_base = {}\n",
    "for line in f:\n",
    "    l = line.split('|')\n",
    "    if l[0] == 'Артикул':\n",
    "        our_base[l[0]] = [l[1], l[2], l[3]]\n",
    "    else:\n",
    "        our_base[l[0]] = [l[1], l[2], float(l[3].rstrip(' грн\\n'))]\n",
    "    \n",
    "import pickle\n",
    "with open ('Kate\\'s dict.pickle', 'wb') as f:\n",
    "    pickle.dump(our_base, f)"
   ]
  },
  {
   "cell_type": "code",
   "execution_count": 23,
   "metadata": {},
   "outputs": [
    {
     "name": "stdout",
     "output_type": "stream",
     "text": [
      "Введіть артикул запчастини:3963\n",
      "'part' : '3963', 'name' : 'Очиститель двигателя (спрей) Liqui Moly 0.4л', 'status' : 'В наличии', 'price' : '277.0 грн'\n"
     ]
    }
   ],
   "source": [
    "with open('Kate\\'s dict.pickle', 'rb') as f:\n",
    "    our_new_dict = pickle.load(f)\n",
    "x = input('Введіть артикул запчастини:')\n",
    "for key in our_new_dict:\n",
    "    if key == x:\n",
    "        print(f\"'part' : '{key}', 'name' : '{our_new_dict[key][0]}', 'status' : '{our_new_dict[key][1]}', 'price' : '{our_new_dict[key][2]} грн'\")\n",
    "    else:\n",
    "        print('Данный артикул не найден')"
   ]
  },
  {
   "cell_type": "code",
   "execution_count": 32,
   "metadata": {},
   "outputs": [
    {
     "name": "stdout",
     "output_type": "stream",
     "text": [
      "7611 ['Омыватель стекла летний (концентрат) яблоко 0.25л Liqui Moly', 'В наличии', 196.0]\n",
      "36001 ['Омыватель стекла летний аромат яблока 1л (концентрат) Liqui Moly', 'В наличии', 73.0]\n",
      "8820 ['Омыватель стекла летний аромат яблока 2л Liqui Moly', 'В наличии', 85.0]\n",
      "AFAM-007 ['Освежитель воздуха Areon Mon Classic аромат яблока', 'Нет в наличии', 17.0]\n",
      "AFA-019 ['Освежитель воздуха гелевый Areon аромат яблока', 'В наличии', 35.0]\n",
      "F07AP ['Освежитель воздуха ёлка (ароматизатор) Zollex аромат яблока', 'Нет в наличии', 10.0]\n"
     ]
    }
   ],
   "source": [
    "for key in our_new_dict:\n",
    "    if 'яблок' in our_new_dict[key][0]:\n",
    "        print(key, our_new_dict[key])"
   ]
  }
 ],
 "metadata": {
  "kernelspec": {
   "display_name": "Python 3",
   "language": "python",
   "name": "python3"
  },
  "language_info": {
   "codemirror_mode": {
    "name": "ipython",
    "version": 3
   },
   "file_extension": ".py",
   "mimetype": "text/x-python",
   "name": "python",
   "nbconvert_exporter": "python",
   "pygments_lexer": "ipython3",
   "version": "3.8.3"
  }
 },
 "nbformat": 4,
 "nbformat_minor": 4
}
