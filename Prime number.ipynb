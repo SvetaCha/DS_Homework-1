{
 "cells": [
  {
   "cell_type": "markdown",
   "metadata": {},
   "source": [
    "Перевірити, чи натуральне число N є просте."
   ]
  },
  {
   "cell_type": "code",
   "execution_count": 12,
   "metadata": {},
   "outputs": [
    {
     "name": "stdout",
     "output_type": "stream",
     "text": [
      "3\n",
      "3 - простое\n"
     ]
    }
   ],
   "source": [
    "num = int(input())\n",
    "k = 0\n",
    "if num == 1:\n",
    "    print(num, '- нейтральный элемент')\n",
    "else:\n",
    "    for i in range(2, num + 1):\n",
    "        if num % i == 0:\n",
    "            k = k + 1\n",
    "    if k == 1:\n",
    "        print(num, '- простое' )\n",
    "    else:\n",
    "        print(num, '- составное')"
   ]
  }
 ],
 "metadata": {
  "kernelspec": {
   "display_name": "Python 3",
   "language": "python",
   "name": "python3"
  },
  "language_info": {
   "codemirror_mode": {
    "name": "ipython",
    "version": 3
   },
   "file_extension": ".py",
   "mimetype": "text/x-python",
   "name": "python",
   "nbconvert_exporter": "python",
   "pygments_lexer": "ipython3",
   "version": "3.8.3"
  }
 },
 "nbformat": 4,
 "nbformat_minor": 4
}
