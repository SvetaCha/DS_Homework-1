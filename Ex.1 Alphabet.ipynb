{
 "cells": [
  {
   "cell_type": "code",
   "execution_count": 34,
   "metadata": {},
   "outputs": [
    {
     "name": "stdout",
     "output_type": "stream",
     "text": [
      "F\n",
      "b\n",
      "6 2\n",
      "3\n"
     ]
    }
   ],
   "source": [
    "ch1 = str(input())\n",
    "ch2 = str(input())\n",
    "# ord('A') =65\n",
    "# ord('Z') =90\n",
    "# ord('a') =97\n",
    "# ord('z') =122\n",
    "i = ord(ch1)\n",
    "j = ord(ch2)\n",
    "if 65 <= i <= 90:\n",
    "    if 65 <= j <= 90:\n",
    "        print(i - 64, j - 64)\n",
    "    else:\n",
    "        print(i - 64, j - 96)\n",
    "else:\n",
    "    if 65 <= j <= 90:\n",
    "        print(i - 96, j - 64)\n",
    "    else:\n",
    "        print(i - 96, j - 96)\n",
    "c1 = str.capitalize(ch1)\n",
    "c2 = str.capitalize(ch2)\n",
    "k = ord(c1) - ord(c2)\n",
    "if k >= 0:\n",
    "    print(k - 1)\n",
    "else:\n",
    "    print(-k - 1)"
   ]
  }
 ],
 "metadata": {
  "kernelspec": {
   "display_name": "Python 3",
   "language": "python",
   "name": "python3"
  },
  "language_info": {
   "codemirror_mode": {
    "name": "ipython",
    "version": 3
   },
   "file_extension": ".py",
   "mimetype": "text/x-python",
   "name": "python",
   "nbconvert_exporter": "python",
   "pygments_lexer": "ipython3",
   "version": "3.8.3"
  }
 },
 "nbformat": 4,
 "nbformat_minor": 4
}
